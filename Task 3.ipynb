{
 "cells": [
  {
   "cell_type": "code",
   "execution_count": 3,
   "id": "90466420",
   "metadata": {},
   "outputs": [
    {
     "name": "stdout",
     "output_type": "stream",
     "text": [
      "jay \n",
      "jay jay \n",
      "jay jay jay \n",
      "jay jay jay jay \n",
      "jay jay jay jay jay \n",
      "jay jay jay jay jay jay \n"
     ]
    }
   ],
   "source": [
    "#Try to draw a pattern\n",
    "n = 6\n",
    "for i in range(n):\n",
    "    for j in range(i+1):\n",
    "        print(\"jay\",end = ' ')\n",
    "    print()"
   ]
  },
  {
   "cell_type": "code",
   "execution_count": 20,
   "id": "0b1f60dd",
   "metadata": {},
   "outputs": [
    {
     "name": "stdout",
     "output_type": "stream",
     "text": [
      "                                                  \n",
      "                       jay                        \n",
      "                      jayjay                      \n",
      "                    jayjayjay                     \n",
      "                      jayjay                      \n",
      "                       jay                        \n"
     ]
    }
   ],
   "source": [
    "#Try to draw a star pattern\n",
    "n =6\n",
    "for i in range(n):\n",
    "    \n",
    "    if i <=3:\n",
    "        n = i\n",
    "    else :\n",
    "        n =6-i\n",
    "    print((\"jay\"*n).center(50,\" \"))"
   ]
  },
  {
   "cell_type": "code",
   "execution_count": 21,
   "id": "46ae469c",
   "metadata": {
    "scrolled": true
   },
   "outputs": [
    {
     "name": "stdout",
     "output_type": "stream",
     "text": [
      "jay jay jay jay jay \n",
      "jay jay jay jay \n",
      "jay jay jay \n",
      "jay jay \n",
      "jay \n"
     ]
    }
   ],
   "source": [
    "# Try to draw a pattern in a decreasing order\n",
    "n =5\n",
    "for i in range(5):\n",
    "    for j in range(i,n):\n",
    "        print(\"jay\",end =\" \")\n",
    "    print()"
   ]
  },
  {
   "cell_type": "code",
   "execution_count": 65,
   "id": "df1ac855",
   "metadata": {},
   "outputs": [
    {
     "name": "stdout",
     "output_type": "stream",
     "text": [
      "                    jay \n",
      "                jay jay \n",
      "            jay jay jay \n",
      "        jay jay jay jay \n",
      "    jay jay jay jay jay \n"
     ]
    }
   ],
   "source": [
    "#try to draw a pattern from right hand side\n",
    "n =5\n",
    "for i in range(5):\n",
    "    for j in range(i,n):\n",
    "        print(\" \",end =\"   \")\n",
    "    for i in range(i+1):\n",
    "        print(\"jay\",end=\" \")\n",
    "    print()"
   ]
  },
  {
   "cell_type": "code",
   "execution_count": 72,
   "id": "f91a1013",
   "metadata": {},
   "outputs": [
    {
     "name": "stdout",
     "output_type": "stream",
     "text": [
      "                                   \n",
      "                jay                \n",
      "              jay jay              \n",
      "            jay jay jay            \n",
      "              jay jay              \n",
      "                jay                \n"
     ]
    }
   ],
   "source": [
    "#Try to draw a star pattern\n",
    "n =6\n",
    "for i in range(6):\n",
    "    if i <=3:\n",
    "        n = i\n",
    "    else:\n",
    "        n = 6-i\n",
    "    print((\"jay \"*n).center(35,' '))\n",
    "     "
   ]
  },
  {
   "cell_type": "code",
   "execution_count": 73,
   "id": "b690a94f",
   "metadata": {},
   "outputs": [],
   "source": [
    "  l =[[1,2,3,4] , (2,3,4,5,6) , (3,4,5,6,7) , set([23,4,5,45,4,4,5,45,45,4,5]) , {'k1' :\"sudh\" , \"k2\" : \"ineuron\",\"k3\":\n",
    "            \"kumar\" , 3:6 , 7:8} , [\"ineuron\" , \"data science \"]]"
   ]
  },
  {
   "cell_type": "code",
   "execution_count": 74,
   "id": "bdeac608",
   "metadata": {},
   "outputs": [
    {
     "name": "stdout",
     "output_type": "stream",
     "text": [
      "[1, 2, 3, 4]\n",
      "['ineuron', 'data science ']\n"
     ]
    }
   ],
   "source": [
    "# try to extract all the list entity\n",
    "for i in l:\n",
    "    if type(i)== list:\n",
    "        print(i)"
   ]
  },
  {
   "cell_type": "code",
   "execution_count": 76,
   "id": "48049e6d",
   "metadata": {},
   "outputs": [
    {
     "name": "stdout",
     "output_type": "stream",
     "text": [
      "{'k1': 'sudh', 'k2': 'ineuron', 'k3': 'kumar', 3: 6, 7: 8}\n"
     ]
    }
   ],
   "source": [
    "#Try to exract the all dict entity \n",
    "for i in l:\n",
    "    if type(i) == dict:\n",
    "        print(i)"
   ]
  },
  {
   "cell_type": "code",
   "execution_count": 77,
   "id": "25cdbea4",
   "metadata": {},
   "outputs": [
    {
     "name": "stdout",
     "output_type": "stream",
     "text": [
      "(2, 3, 4, 5, 6)\n",
      "(3, 4, 5, 6, 7)\n"
     ]
    }
   ],
   "source": [
    "#try to extract all the tuple entity\n",
    "for i in l:\n",
    "    if type(i) == tuple:\n",
    "        print(i)"
   ]
  },
  {
   "cell_type": "code",
   "execution_count": 93,
   "id": "93363fbf",
   "metadata": {},
   "outputs": [
    {
     "data": {
      "text/plain": [
       "[[1, 2, 3, 4],\n",
       " (2, 3, 4, 5, 6),\n",
       " (3, 4, 5, 6, 7),\n",
       " {4, 5, 23, 45},\n",
       " {'k1': 'sudh', 'k2': 'ineuron', 'k3': 'kumar', 3: 6, 7: 8},\n",
       " ['ineuron', 'data science '],\n",
       " 1,\n",
       " 2,\n",
       " 3,\n",
       " 4,\n",
       " 45,\n",
       " 4,\n",
       " 5,\n",
       " 23,\n",
       " 3,\n",
       " 7,\n",
       " 1,\n",
       " 2,\n",
       " 3,\n",
       " 4,\n",
       " 45,\n",
       " 4,\n",
       " 5,\n",
       " 23,\n",
       " 3,\n",
       " 7,\n",
       " 1,\n",
       " 2,\n",
       " 3,\n",
       " 4,\n",
       " 45,\n",
       " 4,\n",
       " 5,\n",
       " 23,\n",
       " 3,\n",
       " 7,\n",
       " 1,\n",
       " 2,\n",
       " 3,\n",
       " 4,\n",
       " 45,\n",
       " 4,\n",
       " 5,\n",
       " 23,\n",
       " 3,\n",
       " 7,\n",
       " 1,\n",
       " 2,\n",
       " 3,\n",
       " 4,\n",
       " 45,\n",
       " 4,\n",
       " 5,\n",
       " 23,\n",
       " 3,\n",
       " 7]"
      ]
     },
     "execution_count": 93,
     "metadata": {},
     "output_type": "execute_result"
    }
   ],
   "source": [
    "l"
   ]
  },
  {
   "cell_type": "code",
   "execution_count": 97,
   "id": "3610b067",
   "metadata": {},
   "outputs": [],
   "source": [
    "#try to extract all the numerical data it may be part of anything\n",
    "for i in l:\n",
    "    if type(i)== list or type(i)== dict or type(i) == set:\n",
    "        for j in i:\n",
    "            if type(j)== int:\n",
    "                l.append(j)"
   ]
  },
  {
   "cell_type": "code",
   "execution_count": 2,
   "id": "35dfdc57",
   "metadata": {},
   "outputs": [],
   "source": [
    "l =[[1,2,3,4] , (2,3,4,5,6) , (3,4,5,6,7) , set([23,4,5,45,4,4,5,45,45,4,5]) , {'k1' :\"sudh\" , \"k2\" : \"ineuron\",\"k3\":\n",
    "            \"kumar\" , 3:6 , 7:8} , [\"ineuron\" , \"data science \"]]"
   ]
  },
  {
   "cell_type": "code",
   "execution_count": 4,
   "id": "aa01d0d2",
   "metadata": {},
   "outputs": [],
   "source": [
    "#try to extract all the numerical data it may be part of anything\n",
    "l1=[]\n",
    "for i in l:\n",
    "    if type(i) == list or type(i) == dict or type(i)== tuple:\n",
    "        for j in i :\n",
    "            if  type(j) == int:\n",
    "                l1.append(j)"
   ]
  },
  {
   "cell_type": "code",
   "execution_count": 5,
   "id": "970d244a",
   "metadata": {},
   "outputs": [
    {
     "data": {
      "text/plain": [
       "[1, 2, 3, 4, 2, 3, 4, 5, 6, 3, 4, 5, 6, 7, 3, 7]"
      ]
     },
     "execution_count": 5,
     "metadata": {},
     "output_type": "execute_result"
    }
   ],
   "source": [
    "l1"
   ]
  },
  {
   "cell_type": "code",
   "execution_count": 6,
   "id": "553922e2",
   "metadata": {},
   "outputs": [
    {
     "data": {
      "text/plain": [
       "65"
      ]
     },
     "execution_count": 6,
     "metadata": {},
     "output_type": "execute_result"
    }
   ],
   "source": [
    "sum(l1)"
   ]
  },
  {
   "cell_type": "code",
   "execution_count": 16,
   "id": "9c1f0ac4",
   "metadata": {},
   "outputs": [],
   "source": [
    " l3 =[[265,888,57,88,8],(555,25,5,222,444,66),{\"jay\":'125',\"singh\":'552'}]"
   ]
  },
  {
   "cell_type": "code",
   "execution_count": 17,
   "id": "3b344144",
   "metadata": {},
   "outputs": [],
   "source": [
    "l4 =[]\n",
    "for i in l3:\n",
    "    if type(i) == list or type(i) == dict or type(i)== tuple:\n",
    "        for j in i:\n",
    "            if type(j) == int:\n",
    "                l4.append(j)"
   ]
  },
  {
   "cell_type": "code",
   "execution_count": 18,
   "id": "779dbf24",
   "metadata": {},
   "outputs": [
    {
     "data": {
      "text/plain": [
       "[265, 888, 57, 88, 8, 555, 25, 5, 222, 444, 66]"
      ]
     },
     "execution_count": 18,
     "metadata": {},
     "output_type": "execute_result"
    }
   ],
   "source": [
    "l4"
   ]
  },
  {
   "cell_type": "code",
   "execution_count": 21,
   "id": "f5a2132c",
   "metadata": {},
   "outputs": [
    {
     "name": "stdout",
     "output_type": "stream",
     "text": [
      "265\n",
      "57\n",
      "555\n",
      "25\n",
      "5\n"
     ]
    }
   ],
   "source": [
    "#Try to find a odd value \n",
    "for i in l4:\n",
    "    if i % 2 == 0:\n",
    "        pass\n",
    "    else:\n",
    "        print(i)"
   ]
  },
  {
   "cell_type": "code",
   "execution_count": 20,
   "id": "a5f1d999",
   "metadata": {},
   "outputs": [
    {
     "name": "stdout",
     "output_type": "stream",
     "text": [
      "265\n",
      "88\n",
      "8\n",
      "25\n",
      "5\n"
     ]
    }
   ],
   "source": [
    "for i in l4:\n",
    "    if i % 3:\n",
    "        print(i)"
   ]
  },
  {
   "cell_type": "code",
   "execution_count": 44,
   "id": "9444b266",
   "metadata": {},
   "outputs": [
    {
     "data": {
      "text/plain": [
       "[[1, 2, 3, 4],\n",
       " (2, 3, 4, 5, 6),\n",
       " (3, 4, 5, 6, 7),\n",
       " {4, 5, 23, 45},\n",
       " {'k1': 'sudh', 'k2': 'ineuron', 'k3': 'kumar', 3: 6, 7: 8},\n",
       " ['ineuron', 'data science ']]"
      ]
     },
     "execution_count": 44,
     "metadata": {},
     "output_type": "execute_result"
    }
   ],
   "source": [
    "l"
   ]
  },
  {
   "cell_type": "code",
   "execution_count": 53,
   "id": "fd355797",
   "metadata": {},
   "outputs": [],
   "source": [
    "#Try to extract the \"ineuron \"\n",
    "k =[]\n",
    "for i in l:\n",
    "    if type(i) == list or type(i) == tuple or type(i) == dict:\n",
    "        for j in i:\n",
    "            if j == \"ineuron\":\n",
    "                k.append(j)\n",
    "    if type(i) == dict:\n",
    "        for p in i.items():\n",
    "            for h in p:\n",
    "                if h == \"ineuron\":\n",
    "                    k.append(h)"
   ]
  },
  {
   "cell_type": "code",
   "execution_count": 54,
   "id": "7e85f09a",
   "metadata": {},
   "outputs": [
    {
     "data": {
      "text/plain": [
       "['ineuron', 'ineuron']"
      ]
     },
     "execution_count": 54,
     "metadata": {},
     "output_type": "execute_result"
    }
   ],
   "source": [
    "k"
   ]
  },
  {
   "cell_type": "code",
   "execution_count": 55,
   "id": "cb036c8a",
   "metadata": {},
   "outputs": [
    {
     "data": {
      "text/plain": [
       "[[1, 2, 3, 4],\n",
       " (2, 3, 4, 5, 6),\n",
       " (3, 4, 5, 6, 7),\n",
       " {4, 5, 23, 45},\n",
       " {'k1': 'sudh', 'k2': 'ineuron', 'k3': 'kumar', 3: 6, 7: 8},\n",
       " ['ineuron', 'data science ']]"
      ]
     },
     "execution_count": 55,
     "metadata": {},
     "output_type": "execute_result"
    }
   ],
   "source": [
    "l"
   ]
  },
  {
   "cell_type": "code",
   "execution_count": 58,
   "id": "276d74b4",
   "metadata": {},
   "outputs": [],
   "source": [
    "# Try to no. of occurances of all the data\n",
    "k =[]\n",
    "for i in l:\n",
    "    if type(i) == list or type(i) == tuple or type(i) == dict:\n",
    "        for j in i:\n",
    "            if type(j)== int or type(j) == str:\n",
    "                k.append(j)\n",
    "    if type(i) == dict:\n",
    "        for p in i.items():\n",
    "            for h in p:\n",
    "                if type(h)== int or type(h) == str:\n",
    "                    k.append(h)"
   ]
  },
  {
   "cell_type": "code",
   "execution_count": 59,
   "id": "a9c889ca",
   "metadata": {},
   "outputs": [
    {
     "data": {
      "text/plain": [
       "[1,\n",
       " 2,\n",
       " 3,\n",
       " 4,\n",
       " 2,\n",
       " 3,\n",
       " 4,\n",
       " 5,\n",
       " 6,\n",
       " 3,\n",
       " 4,\n",
       " 5,\n",
       " 6,\n",
       " 7,\n",
       " 'k1',\n",
       " 'k2',\n",
       " 'k3',\n",
       " 3,\n",
       " 7,\n",
       " 'k1',\n",
       " 'sudh',\n",
       " 'k2',\n",
       " 'ineuron',\n",
       " 'k3',\n",
       " 'kumar',\n",
       " 3,\n",
       " 6,\n",
       " 7,\n",
       " 8,\n",
       " 'ineuron',\n",
       " 'data science ']"
      ]
     },
     "execution_count": 59,
     "metadata": {},
     "output_type": "execute_result"
    }
   ],
   "source": [
    "k"
   ]
  },
  {
   "cell_type": "code",
   "execution_count": 63,
   "id": "7b8f51c6",
   "metadata": {},
   "outputs": [
    {
     "data": {
      "text/plain": [
       "{1,\n",
       " 2,\n",
       " 3,\n",
       " 4,\n",
       " 5,\n",
       " 6,\n",
       " 7,\n",
       " 8,\n",
       " 'data science ',\n",
       " 'ineuron',\n",
       " 'k1',\n",
       " 'k2',\n",
       " 'k3',\n",
       " 'kumar',\n",
       " 'sudh'}"
      ]
     },
     "execution_count": 63,
     "metadata": {},
     "output_type": "execute_result"
    }
   ],
   "source": [
    "set(k)"
   ]
  },
  {
   "cell_type": "code",
   "execution_count": 65,
   "id": "20143c3d",
   "metadata": {},
   "outputs": [
    {
     "name": "stdout",
     "output_type": "stream",
     "text": [
      "1 : 1\n",
      "2 : 2\n",
      "3 : 5\n",
      "4 : 3\n",
      "5 : 2\n",
      "6 : 3\n",
      "7 : 3\n",
      "k1 : 2\n",
      "ineuron : 2\n",
      "kumar : 1\n",
      "8 : 1\n",
      "data science  : 1\n",
      "k2 : 2\n",
      "k3 : 2\n",
      "sudh : 1\n"
     ]
    }
   ],
   "source": [
    "for i in set(k):\n",
    "    print(i,\":\",k.count(i))"
   ]
  },
  {
   "cell_type": "code",
   "execution_count": 73,
   "id": "96818144",
   "metadata": {},
   "outputs": [
    {
     "data": {
      "text/plain": [
       "[[1, 2, 3, 4],\n",
       " (2, 3, 4, 5, 6),\n",
       " (3, 4, 5, 6, 7),\n",
       " {4, 5, 23, 45},\n",
       " {'k1': 'sudh', 'k2': 'ineuron', 'k3': 'kumar', 3: 6, 7: 8},\n",
       " ['ineuron', 'data science ']]"
      ]
     },
     "execution_count": 73,
     "metadata": {},
     "output_type": "execute_result"
    }
   ],
   "source": [
    "#Try to find out len of dict\n",
    "l"
   ]
  },
  {
   "cell_type": "code",
   "execution_count": 74,
   "id": "9705d36e",
   "metadata": {},
   "outputs": [
    {
     "name": "stdout",
     "output_type": "stream",
     "text": [
      "5\n"
     ]
    }
   ],
   "source": [
    "for i in l:\n",
    "    if type(i) == dict:\n",
    "        print(len(i))"
   ]
  },
  {
   "cell_type": "code",
   "execution_count": 75,
   "id": "ee6fbd6b",
   "metadata": {},
   "outputs": [
    {
     "data": {
      "text/plain": [
       "[[1, 2, 3, 4],\n",
       " (2, 3, 4, 5, 6),\n",
       " (3, 4, 5, 6, 7),\n",
       " {4, 5, 23, 45},\n",
       " {'k1': 'sudh', 'k2': 'ineuron', 'k3': 'kumar', 3: 6, 7: 8},\n",
       " ['ineuron', 'data science ']]"
      ]
     },
     "execution_count": 75,
     "metadata": {},
     "output_type": "execute_result"
    }
   ],
   "source": [
    "#Try to filter out string in data \n",
    "l"
   ]
  },
  {
   "cell_type": "code",
   "execution_count": 78,
   "id": "46c5b5b5",
   "metadata": {},
   "outputs": [
    {
     "data": {
      "text/plain": [
       "[1,\n",
       " 2,\n",
       " 3,\n",
       " 4,\n",
       " 2,\n",
       " 3,\n",
       " 4,\n",
       " 5,\n",
       " 6,\n",
       " 3,\n",
       " 4,\n",
       " 5,\n",
       " 6,\n",
       " 7,\n",
       " 'k1',\n",
       " 'k2',\n",
       " 'k3',\n",
       " 3,\n",
       " 7,\n",
       " 'k1',\n",
       " 'sudh',\n",
       " 'k2',\n",
       " 'ineuron',\n",
       " 'k3',\n",
       " 'kumar',\n",
       " 3,\n",
       " 6,\n",
       " 7,\n",
       " 8,\n",
       " 'ineuron',\n",
       " 'data science ']"
      ]
     },
     "execution_count": 78,
     "metadata": {},
     "output_type": "execute_result"
    }
   ],
   "source": [
    "k"
   ]
  },
  {
   "cell_type": "code",
   "execution_count": 79,
   "id": "1cba40cf",
   "metadata": {},
   "outputs": [
    {
     "name": "stdout",
     "output_type": "stream",
     "text": [
      "k1\n",
      "k2\n",
      "k3\n",
      "k1\n",
      "sudh\n",
      "k2\n",
      "ineuron\n",
      "k3\n",
      "kumar\n",
      "ineuron\n",
      "data science \n"
     ]
    }
   ],
   "source": [
    "#try to filter out str data \n",
    "for i in k:\n",
    "    if type(i)== str:\n",
    "        print(i)"
   ]
  },
  {
   "cell_type": "code",
   "execution_count": 82,
   "id": "d44d4eaf",
   "metadata": {},
   "outputs": [
    {
     "name": "stdout",
     "output_type": "stream",
     "text": [
      "k1\n",
      "k2\n",
      "k3\n",
      "k1\n",
      "sudh\n",
      "k2\n",
      "ineuron\n",
      "k3\n",
      "kumar\n",
      "ineuron\n"
     ]
    }
   ],
   "source": [
    "for i in k:\n",
    "    if type(i) == str:\n",
    "        if i.isalnum():\n",
    "            print(i)"
   ]
  },
  {
   "cell_type": "code",
   "execution_count": 96,
   "id": "6fa7c085",
   "metadata": {},
   "outputs": [
    {
     "data": {
      "text/plain": [
       "[[1, 2, 3, 4],\n",
       " (2, 3, 4, 5, 6),\n",
       " (3, 4, 5, 6, 7),\n",
       " {4, 5, 23, 45},\n",
       " {'k1': 'sudh', 'k2': 'ineuron', 'k3': 'kumar', 3: 6, 7: 8},\n",
       " ['ineuron', 'data science ']]"
      ]
     },
     "execution_count": 96,
     "metadata": {},
     "output_type": "execute_result"
    }
   ],
   "source": [
    "l "
   ]
  },
  {
   "cell_type": "code",
   "execution_count": 106,
   "id": "1be2819f",
   "metadata": {},
   "outputs": [
    {
     "name": "stdout",
     "output_type": "stream",
     "text": [
      "<class 'list'> 24\n",
      "<class 'tuple'> 720\n",
      "<class 'tuple'> 2520\n",
      "<class 'set'> 20700\n",
      "<class 'dict'> 1\n",
      "<class 'dict'> 1\n",
      "<class 'dict'> 1\n",
      "<class 'dict'> 18\n",
      "<class 'dict'> 1008\n",
      "<class 'list'> 1\n"
     ]
    }
   ],
   "source": [
    "# Try to multiply all the list element indivisual\n",
    "for i in l:\n",
    "    m = 1\n",
    "    if type(i) == list or type(i) == tuple or type(i) == set:\n",
    "        for j in i:\n",
    "            if type(j) == int:\n",
    "                m = m * j\n",
    "        print(type(i),m)\n",
    "    if type(i) == dict:\n",
    "        for u in i.items():\n",
    "            for q in u :\n",
    "                if type(q) == int:\n",
    "                    m = m * q\n",
    "            print(type(i) ,m)\n",
    "    \n",
    "                "
   ]
  },
  {
   "cell_type": "code",
   "execution_count": null,
   "id": "690ca217",
   "metadata": {},
   "outputs": [],
   "source": []
  },
  {
   "cell_type": "code",
   "execution_count": null,
   "id": "8593636a",
   "metadata": {},
   "outputs": [],
   "source": []
  }
 ],
 "metadata": {
  "kernelspec": {
   "display_name": "Python 3 (ipykernel)",
   "language": "python",
   "name": "python3"
  },
  "language_info": {
   "codemirror_mode": {
    "name": "ipython",
    "version": 3
   },
   "file_extension": ".py",
   "mimetype": "text/x-python",
   "name": "python",
   "nbconvert_exporter": "python",
   "pygments_lexer": "ipython3",
   "version": "3.9.12"
  }
 },
 "nbformat": 4,
 "nbformat_minor": 5
}
